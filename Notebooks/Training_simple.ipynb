{
 "cells": [
  {
   "cell_type": "markdown",
   "metadata": {},
   "source": [
    "## Training Notebook\n",
    "\n",
    "### 1] Data preparation\n",
    "List and read *.wav* to generate training dataset. The features are extracted with **librosa**, and aim to be simple to be able to be extracted at run time on the RasPi. The feature are extracted on a window of 1sec, and to augment the data, we use a sliding windows of 300ms. Then the dataframe is save as csv, and we prepare training vector.\n",
    "\n",
    "### 2] Model definition\n",
    "In order to be able to run the model on the RaspPi, we only use a simple NN model.\n",
    "\n",
    "### 3] Training - Saving - tf-lite convertion\n",
    "Small training, and simple convertion to tf-lite model (no quantization)\n",
    "\n",
    "### 4] Possible improvement\n",
    "- Collect more data\n",
    "- More complexe features\n",
    "- More complexe model"
   ]
  },
  {
   "cell_type": "code",
   "execution_count": 1,
   "metadata": {},
   "outputs": [],
   "source": [
    "import numpy as np\n",
    "import librosa\n",
    "import matplotlib.pyplot as plt\n",
    "\n",
    "import os, glob\n",
    "\n",
    "import pandas as pd\n",
    "\n",
    "from sklearn.model_selection import train_test_split\n",
    "from sklearn.preprocessing import LabelEncoder, StandardScaler\n",
    "\n",
    "from keras import layers\n",
    "from keras.models import Sequential\n",
    "import keras\n",
    "\n",
    "import matplotlib.pyplot as plt\n",
    "%matplotlib inline"
   ]
  },
  {
   "cell_type": "code",
   "execution_count": 2,
   "metadata": {},
   "outputs": [
    {
     "name": "stdout",
     "output_type": "stream",
     "text": [
      "armed [1] : 20 files\n",
      "background [0] : 21 files\n"
     ]
    }
   ],
   "source": [
    "# Get all training file:\n",
    "## Path init\n",
    "data_path = \"../Data/\"\n",
    "cat_list = [ name for name in os.listdir(data_path) if os.path.isdir(os.path.join(data_path, name)) ]\n",
    "train_dict = {}\n",
    "\n",
    "## Arbitrary cat dictionnary (should be automated)\n",
    "cat_index = {}\n",
    "cat_index[\"armed\"] = 1\n",
    "cat_index[\"background\"] = 0\n",
    "\n",
    "## Iter over path\n",
    "for cat in cat_list:\n",
    "    wav_file_list = glob.glob(data_path + cat + '/*.wav')\n",
    "    train_dict[cat] = wav_file_list\n",
    "    print(\"{} [{}] : {} files\".format(cat, cat_index[cat], len(train_dict[cat])))\n"
   ]
  },
  {
   "cell_type": "code",
   "execution_count": 3,
   "metadata": {},
   "outputs": [],
   "source": [
    "# Utilities functions\n",
    "def get_wav_info(file_name):\n",
    "    \"\"\"\n",
    "    Read out .Wav file, and return signal and sample rate.\n",
    "    \"\"\"\n",
    "    x, sample_rate = librosa.load(file_name)\n",
    "    return x, sample_rate\n",
    "\n",
    "def simple_feature_extraction(x, FFT_SIZE=256):\n",
    "    \"\"\"\n",
    "    Extract magnitude from signal (faster to extract on PI)\n",
    "    \"\"\"\n",
    "    mfccs = librosa.stft(librosa.util.normalize(x), n_fft=FFT_SIZE, window='hamming')\n",
    "    #mfccs = np.abs(D)\n",
    "    mfccsscaled = np.mean(mfccs.T,axis=0)\n",
    "    return(mfccsscaled)\n",
    "\n",
    "def sliding_window_sound(data, sample_rate, w_size_ms, stepsize_ms=1, padded=False, axis=-1, copy=True):\n",
    "    \"\"\"\n",
    "    Calculate a sliding window over a sound signal. input in [ms]\n",
    "    \"\"\"\n",
    "    if axis >= data.ndim:\n",
    "        raise ValueError(\n",
    "            \"Axis value out of range\"\n",
    "        )\n",
    "\n",
    "    if stepsize_ms < 1:\n",
    "        raise ValueError(\n",
    "            \"Stepsize may not be zero or negative\"\n",
    "        )\n",
    "\n",
    "    # Convert time to sample ([ms] -> sample)\n",
    "    size = int( (sample_rate * w_size_ms) / 1000)\n",
    "    stepsize = int( (sample_rate * stepsize_ms) / 1000)\n",
    "\n",
    "    # Generate Windows:\n",
    "    shape = list(data.shape)\n",
    "    shape[axis] = np.floor(data.shape[axis] / stepsize - size / stepsize + 1).astype(int)\n",
    "    shape.append(size)\n",
    "\n",
    "    strides = list(data.strides)\n",
    "    strides[axis] *= stepsize\n",
    "    strides.append(data.strides[axis])\n",
    "\n",
    "    strided = np.lib.stride_tricks.as_strided(\n",
    "        data, shape=shape, strides=strides\n",
    "    )\n",
    "\n",
    "    if copy:\n",
    "        return strided.copy()\n",
    "    else:\n",
    "        return strided"
   ]
  },
  {
   "cell_type": "code",
   "execution_count": 4,
   "metadata": {},
   "outputs": [
    {
     "name": "stdout",
     "output_type": "stream",
     "text": [
      "Armed: Sample rate: 22050 | 108544\n",
      "Background: Sample rate: 22050 | 131072\n"
     ]
    },
    {
     "data": {
      "text/plain": [
       "[Text(0.5, 15.0, 'time')]"
      ]
     },
     "execution_count": 4,
     "metadata": {},
     "output_type": "execute_result"
    },
    {
     "data": {
      "image/png": "[encoded data removed]",
      "text/plain": [
       "<Figure size 432x288 with 2 Axes>"
      ]
     },
     "metadata": {
      "needs_background": "light"
     },
     "output_type": "display_data"
    }
   ],
   "source": [
    "# Simple visualization\n",
    "# Load file\n",
    "armed_sample = train_dict[\"armed\"][0]\n",
    "background_sample = train_dict[\"background\"][0]\n",
    "armed_samples, armed_sample_rate = get_wav_info(armed_sample)\n",
    "print(\"Armed: Sample rate: {} | {}\".format(armed_sample_rate, len(armed_samples)))\n",
    "\n",
    "back_samples, back_sample_rate = get_wav_info(background_sample)\n",
    "print(\"Background: Sample rate: {} | {}\".format(back_sample_rate, len(back_samples)))\n",
    "\n",
    "# Plot the wav\n",
    "fig, (ax1, ax2) = plt.subplots(1, 2)\n",
    "fig.suptitle('Wav temp domain')\n",
    "fig.tight_layout(pad=2.0)\n",
    "\n",
    "ax1.plot(back_samples)\n",
    "ax1.set_title('Background')\n",
    "ax1.set(xlabel='time', ylabel='amplitude')\n",
    "\n",
    "ax2.plot(armed_samples)\n",
    "ax2.set_title('Armed')\n",
    "ax2.set(xlabel='time')\n"
   ]
  },
  {
   "cell_type": "code",
   "execution_count": 5,
   "metadata": {},
   "outputs": [
    {
     "name": "stdout",
     "output_type": "stream",
     "text": [
      "Processing armed - ../Data/armed/3.wav\n",
      "Processing armed - ../Data/armed/2.wav\n",
      "Processing armed - ../Data/armed/15.wav\n",
      "Processing armed - ../Data/armed/1.wav\n",
      "Processing armed - ../Data/armed/18.wav\n",
      "Processing armed - ../Data/armed/20.wav\n",
      "Processing armed - ../Data/armed/17.wav\n",
      "Processing armed - ../Data/armed/12.wav\n",
      "Processing armed - ../Data/armed/9.wav\n",
      "Processing armed - ../Data/armed/8.wav\n",
      "Processing armed - ../Data/armed/7.wav\n",
      "Processing armed - ../Data/armed/14.wav\n",
      "Processing armed - ../Data/armed/5.wav\n",
      "Processing armed - ../Data/armed/16.wav\n",
      "Processing armed - ../Data/armed/13.wav\n",
      "Processing armed - ../Data/armed/11.wav\n",
      "Processing armed - ../Data/armed/10.wav\n",
      "Processing armed - ../Data/armed/6.wav\n",
      "Processing armed - ../Data/armed/19.wav\n",
      "Processing armed - ../Data/armed/4.wav\n",
      "Processing background - ../Data/background/3.wav\n",
      "Processing background - ../Data/background/2.wav\n",
      "Processing background - ../Data/background/15.wav\n",
      "Processing background - ../Data/background/1.wav\n",
      "Processing background - ../Data/background/18.wav\n",
      "Processing background - ../Data/background/20.wav\n",
      "Processing background - ../Data/background/17.wav\n",
      "Processing background - ../Data/background/12.wav\n",
      "Processing background - ../Data/background/9.wav\n",
      "Processing background - ../Data/background/21.wav\n",
      "Processing background - ../Data/background/8.wav\n",
      "Processing background - ../Data/background/7.wav\n",
      "Processing background - ../Data/background/14.wav\n",
      "Processing background - ../Data/background/5.wav\n",
      "Processing background - ../Data/background/16.wav\n",
      "Processing background - ../Data/background/13.wav\n",
      "Processing background - ../Data/background/11.wav\n",
      "Processing background - ../Data/background/10.wav\n",
      "Processing background - ../Data/background/6.wav\n",
      "Processing background - ../Data/background/19.wav\n",
      "Processing background - ../Data/background/4.wav\n",
      "(845, 4)\n"
     ]
    },
    {
     "data": {
      "text/html": [
       "<div>\n",
       "<style scoped>\n",
       "    .dataframe tbody tr th:only-of-type {\n",
       "        vertical-align: middle;\n",
       "    }\n",
       "\n",
       "    .dataframe tbody tr th {\n",
       "        vertical-align: top;\n",
       "    }\n",
       "\n",
       "    .dataframe thead th {\n",
       "        text-align: right;\n",
       "    }\n",
       "</style>\n",
       "<table border=\"1\" class=\"dataframe\">\n",
       "  <thead>\n",
       "    <tr style=\"text-align: right;\">\n",
       "      <th></th>\n",
       "      <th>orig_file</th>\n",
       "      <th>cat</th>\n",
       "      <th>cat_num</th>\n",
       "      <th>magnitude</th>\n",
       "    </tr>\n",
       "  </thead>\n",
       "  <tbody>\n",
       "    <tr>\n",
       "      <th>0</th>\n",
       "      <td>../Data/armed/3.wav</td>\n",
       "      <td>armed</td>\n",
       "      <td>1</td>\n",
       "      <td>[(-0.70649153+0j), (0.3045584+0.080432296j), (...</td>\n",
       "    </tr>\n",
       "    <tr>\n",
       "      <th>1</th>\n",
       "      <td>../Data/armed/3.wav</td>\n",
       "      <td>armed</td>\n",
       "      <td>1</td>\n",
       "      <td>[(0.38909912+0j), (-0.1704741-0.024563044j), (...</td>\n",
       "    </tr>\n",
       "    <tr>\n",
       "      <th>2</th>\n",
       "      <td>../Data/armed/3.wav</td>\n",
       "      <td>armed</td>\n",
       "      <td>1</td>\n",
       "      <td>[(0.5507703+0j), (-0.23985884-0.040042985j), (...</td>\n",
       "    </tr>\n",
       "    <tr>\n",
       "      <th>3</th>\n",
       "      <td>../Data/armed/3.wav</td>\n",
       "      <td>armed</td>\n",
       "      <td>1</td>\n",
       "      <td>[(0.13520396+0j), (-0.053749308+0.023851296j),...</td>\n",
       "    </tr>\n",
       "    <tr>\n",
       "      <th>4</th>\n",
       "      <td>../Data/armed/3.wav</td>\n",
       "      <td>armed</td>\n",
       "      <td>1</td>\n",
       "      <td>[(1.7767248+0j), (-0.75116485+0.1269502j), (-0...</td>\n",
       "    </tr>\n",
       "  </tbody>\n",
       "</table>\n",
       "</div>"
      ],
      "text/plain": [
       "             orig_file    cat cat_num  \\\n",
       "0  ../Data/armed/3.wav  armed       1   \n",
       "1  ../Data/armed/3.wav  armed       1   \n",
       "2  ../Data/armed/3.wav  armed       1   \n",
       "3  ../Data/armed/3.wav  armed       1   \n",
       "4  ../Data/armed/3.wav  armed       1   \n",
       "\n",
       "                                           magnitude  \n",
       "0  [(-0.70649153+0j), (0.3045584+0.080432296j), (...  \n",
       "1  [(0.38909912+0j), (-0.1704741-0.024563044j), (...  \n",
       "2  [(0.5507703+0j), (-0.23985884-0.040042985j), (...  \n",
       "3  [(0.13520396+0j), (-0.053749308+0.023851296j),...  \n",
       "4  [(1.7767248+0j), (-0.75116485+0.1269502j), (-0...  "
      ]
     },
     "execution_count": 5,
     "metadata": {},
     "output_type": "execute_result"
    }
   ],
   "source": [
    "# Generate dataframe\n",
    "column_names = [\"orig_file\", \"cat\", \"cat_num\", \"magnitude\"]\n",
    "signal_df = pd.DataFrame(columns = column_names)\n",
    "\n",
    "## Generate feature for each signal and frame\n",
    "feat_list = []\n",
    "for cat in cat_list:\n",
    "    for wav_file in train_dict[cat]:\n",
    "        print(\"Processing {} - {}\".format(cat, wav_file))\n",
    "        \n",
    "        # Load file\n",
    "        x, sample_rate = get_wav_info(wav_file)\n",
    "        \n",
    "        # Extract windows\n",
    "        windows = sliding_window_sound(x, sample_rate, 1000, 200)\n",
    "        \n",
    "        # Extract feature - Not optimized -\n",
    "        for window in windows:\n",
    "            feat_list.append({\"orig_file\":wav_file, \n",
    "                               \"cat\":cat,\n",
    "                               \"cat_num\":cat_index[cat], \n",
    "                               \"magnitude\":simple_feature_extraction(window)})\n",
    "            \n",
    "# Generate the dataframe\n",
    "signal_df = signal_df.append(feat_list)\n",
    "\n",
    "# Easy data exploration\n",
    "print(signal_df.shape)\n",
    "signal_df.head()"
   ]
  },
  {
   "cell_type": "code",
   "execution_count": 6,
   "metadata": {},
   "outputs": [],
   "source": [
    "# Save to .csv\n",
    "signal_df.to_csv(\"training_set.csv\", index = False)\n",
    "\n",
    "# Read directly from csv (some issue with np.array as columns)\n",
    "\"\"\"\n",
    "def converter(instr):\n",
    "    # Datasave np.array as string, so need to convert back\n",
    "    return np.fromstring(instr[1:-1],sep=' ')\n",
    "\n",
    "dataset_path = \"training_set.csv\"\n",
    "train_df = pd.read_csv(dataset_path, converters={'Vec':converter})\n",
    "train_df.head()\n",
    "\"\"\""
   ]
  },
  {
   "cell_type": "code",
   "execution_count": 7,
   "metadata": {},
   "outputs": [
    {
     "name": "stdout",
     "output_type": "stream",
     "text": [
      "X_shape: (845, 129) | Y_shape: (845,)\n"
     ]
    }
   ],
   "source": [
    "# Extract label and feature\n",
    "X = np.array(signal_df.magnitude.tolist())\n",
    "y = np.array(signal_df.cat_num.tolist())\n",
    "\n",
    "print(\"X_shape: {} | Y_shape: {}\".format(X.shape, y.shape))\n",
    "\n",
    "X_train, X_test, y_train, y_test = train_test_split(X, y, test_size=0.25, random_state=42)"
   ]
  },
  {
   "cell_type": "code",
   "execution_count": 8,
   "metadata": {},
   "outputs": [
    {
     "name": "stdout",
     "output_type": "stream",
     "text": [
      "Model: \"sequential\"\n",
      "_________________________________________________________________\n",
      "Layer (type)                 Output Shape              Param #   \n",
      "=================================================================\n",
      "dense (Dense)                (None, 256)               33280     \n",
      "_________________________________________________________________\n",
      "dense_1 (Dense)              (None, 128)               32896     \n",
      "_________________________________________________________________\n",
      "dense_2 (Dense)              (None, 64)                8256      \n",
      "_________________________________________________________________\n",
      "dense_3 (Dense)              (None, 2)                 130       \n",
      "=================================================================\n",
      "Total params: 74,562\n",
      "Trainable params: 74,562\n",
      "Non-trainable params: 0\n",
      "_________________________________________________________________\n"
     ]
    }
   ],
   "source": [
    "# 2] Build simple model\n",
    "model = Sequential()\n",
    "model.add(layers.Dense(256, activation='relu', input_shape=(X_train.shape[1],)))\n",
    "model.add(layers.Dense(128, activation='relu'))\n",
    "model.add(layers.Dense(64, activation='relu'))\n",
    "model.add(layers.Dense(2, activation='softmax'))\n",
    "model.compile(optimizer='adam',\n",
    "              loss='sparse_categorical_crossentropy',\n",
    "              metrics=['accuracy'])\n",
    "\n",
    "model.summary()"
   ]
  },
  {
   "cell_type": "code",
   "execution_count": 9,
   "metadata": {},
   "outputs": [
    {
     "name": "stdout",
     "output_type": "stream",
     "text": [
      "Epoch 1/100\n",
      "5/5 [==============================] - 0s 1ms/step - loss: 0.6657 - accuracy: 0.6509\n",
      "Epoch 2/100\n",
      "5/5 [==============================] - 0s 961us/step - loss: 0.6089 - accuracy: 0.8325\n",
      "Epoch 3/100\n",
      "5/5 [==============================] - 0s 953us/step - loss: 0.5609 - accuracy: 0.8562\n",
      "Epoch 4/100\n",
      "5/5 [==============================] - 0s 1ms/step - loss: 0.5162 - accuracy: 0.8594\n",
      "Epoch 5/100\n",
      "5/5 [==============================] - 0s 796us/step - loss: 0.4722 - accuracy: 0.8468\n",
      "Epoch 6/100\n",
      "5/5 [==============================] - 0s 752us/step - loss: 0.4367 - accuracy: 0.8357\n",
      "Epoch 7/100\n",
      "5/5 [==============================] - 0s 996us/step - loss: 0.4121 - accuracy: 0.8452\n",
      "Epoch 8/100\n",
      "5/5 [==============================] - 0s 747us/step - loss: 0.3934 - accuracy: 0.8515\n",
      "Epoch 9/100\n",
      "5/5 [==============================] - 0s 767us/step - loss: 0.3767 - accuracy: 0.8531\n",
      "Epoch 10/100\n",
      "5/5 [==============================] - 0s 797us/step - loss: 0.3728 - accuracy: 0.8594\n",
      "Epoch 11/100\n",
      "5/5 [==============================] - 0s 680us/step - loss: 0.3593 - accuracy: 0.8657\n",
      "Epoch 12/100\n",
      "5/5 [==============================] - 0s 967us/step - loss: 0.3503 - accuracy: 0.8689\n",
      "Epoch 13/100\n",
      "5/5 [==============================] - 0s 678us/step - loss: 0.3420 - accuracy: 0.8720\n",
      "Epoch 14/100\n",
      "5/5 [==============================] - 0s 684us/step - loss: 0.3331 - accuracy: 0.8752\n",
      "Epoch 15/100\n",
      "5/5 [==============================] - 0s 703us/step - loss: 0.3304 - accuracy: 0.8736\n",
      "Epoch 16/100\n",
      "5/5 [==============================] - 0s 709us/step - loss: 0.3275 - accuracy: 0.8752\n",
      "Epoch 17/100\n",
      "5/5 [==============================] - 0s 707us/step - loss: 0.3124 - accuracy: 0.8736\n",
      "Epoch 18/100\n",
      "5/5 [==============================] - 0s 818us/step - loss: 0.3031 - accuracy: 0.8768\n",
      "Epoch 19/100\n",
      "5/5 [==============================] - 0s 662us/step - loss: 0.2934 - accuracy: 0.8831\n",
      "Epoch 20/100\n",
      "5/5 [==============================] - 0s 702us/step - loss: 0.2857 - accuracy: 0.8815\n",
      "Epoch 21/100\n",
      "5/5 [==============================] - 0s 877us/step - loss: 0.2780 - accuracy: 0.8847\n",
      "Epoch 22/100\n",
      "5/5 [==============================] - 0s 679us/step - loss: 0.2651 - accuracy: 0.8942\n",
      "Epoch 23/100\n",
      "5/5 [==============================] - 0s 730us/step - loss: 0.2560 - accuracy: 0.8894\n",
      "Epoch 24/100\n",
      "5/5 [==============================] - 0s 679us/step - loss: 0.2427 - accuracy: 0.9100\n",
      "Epoch 25/100\n",
      "5/5 [==============================] - 0s 2ms/step - loss: 0.2288 - accuracy: 0.9084\n",
      "Epoch 26/100\n",
      "5/5 [==============================] - 0s 769us/step - loss: 0.2198 - accuracy: 0.9131\n",
      "Epoch 27/100\n",
      "5/5 [==============================] - 0s 703us/step - loss: 0.2081 - accuracy: 0.9194\n",
      "Epoch 28/100\n",
      "5/5 [==============================] - 0s 722us/step - loss: 0.1980 - accuracy: 0.9242\n",
      "Epoch 29/100\n",
      "5/5 [==============================] - 0s 778us/step - loss: 0.1879 - accuracy: 0.9273\n",
      "Epoch 30/100\n",
      "5/5 [==============================] - 0s 764us/step - loss: 0.1802 - accuracy: 0.9194\n",
      "Epoch 31/100\n",
      "5/5 [==============================] - 0s 836us/step - loss: 0.1712 - accuracy: 0.9273\n",
      "Epoch 32/100\n",
      "5/5 [==============================] - 0s 885us/step - loss: 0.1597 - accuracy: 0.9336\n",
      "Epoch 33/100\n",
      "5/5 [==============================] - 0s 706us/step - loss: 0.1525 - accuracy: 0.9384\n",
      "Epoch 34/100\n",
      "5/5 [==============================] - 0s 821us/step - loss: 0.1479 - accuracy: 0.9400\n",
      "Epoch 35/100\n",
      "5/5 [==============================] - 0s 777us/step - loss: 0.1428 - accuracy: 0.9431\n",
      "Epoch 36/100\n",
      "5/5 [==============================] - 0s 689us/step - loss: 0.1291 - accuracy: 0.9510\n",
      "Epoch 37/100\n",
      "5/5 [==============================] - 0s 954us/step - loss: 0.1255 - accuracy: 0.9526\n",
      "Epoch 38/100\n",
      "5/5 [==============================] - 0s 753us/step - loss: 0.1251 - accuracy: 0.9494\n",
      "Epoch 39/100\n",
      "5/5 [==============================] - 0s 774us/step - loss: 0.1138 - accuracy: 0.9573\n",
      "Epoch 40/100\n",
      "5/5 [==============================] - 0s 950us/step - loss: 0.1060 - accuracy: 0.9668\n",
      "Epoch 41/100\n",
      "5/5 [==============================] - 0s 725us/step - loss: 0.0996 - accuracy: 0.9684\n",
      "Epoch 42/100\n",
      "5/5 [==============================] - 0s 755us/step - loss: 0.0973 - accuracy: 0.9652\n",
      "Epoch 43/100\n",
      "5/5 [==============================] - 0s 729us/step - loss: 0.0918 - accuracy: 0.9716\n",
      "Epoch 44/100\n",
      "5/5 [==============================] - 0s 691us/step - loss: 0.0921 - accuracy: 0.9716\n",
      "Epoch 45/100\n",
      "5/5 [==============================] - 0s 1ms/step - loss: 0.0827 - accuracy: 0.9731\n",
      "Epoch 46/100\n",
      "5/5 [==============================] - 0s 735us/step - loss: 0.0835 - accuracy: 0.9700\n",
      "Epoch 47/100\n",
      "5/5 [==============================] - 0s 775us/step - loss: 0.0731 - accuracy: 0.9779\n",
      "Epoch 48/100\n",
      "5/5 [==============================] - 0s 980us/step - loss: 0.0704 - accuracy: 0.9763\n",
      "Epoch 49/100\n",
      "5/5 [==============================] - 0s 859us/step - loss: 0.0673 - accuracy: 0.9747\n",
      "Epoch 50/100\n",
      "5/5 [==============================] - 0s 1ms/step - loss: 0.0683 - accuracy: 0.9795\n",
      "Epoch 51/100\n",
      "5/5 [==============================] - 0s 832us/step - loss: 0.0655 - accuracy: 0.9826\n",
      "Epoch 52/100\n",
      "5/5 [==============================] - 0s 735us/step - loss: 0.0637 - accuracy: 0.9731\n",
      "Epoch 53/100\n",
      "5/5 [==============================] - 0s 932us/step - loss: 0.0541 - accuracy: 0.9874\n",
      "Epoch 54/100\n",
      "5/5 [==============================] - 0s 730us/step - loss: 0.0517 - accuracy: 0.9842\n",
      "Epoch 55/100\n",
      "5/5 [==============================] - 0s 901us/step - loss: 0.0477 - accuracy: 0.9889\n",
      "Epoch 56/100\n",
      "5/5 [==============================] - 0s 751us/step - loss: 0.0468 - accuracy: 0.9889\n",
      "Epoch 57/100\n",
      "5/5 [==============================] - 0s 803us/step - loss: 0.0461 - accuracy: 0.9874\n",
      "Epoch 58/100\n",
      "5/5 [==============================] - 0s 884us/step - loss: 0.0412 - accuracy: 0.9889\n",
      "Epoch 59/100\n",
      "5/5 [==============================] - 0s 823us/step - loss: 0.0406 - accuracy: 0.9842\n",
      "Epoch 60/100\n",
      "5/5 [==============================] - 0s 893us/step - loss: 0.0362 - accuracy: 0.9937\n",
      "Epoch 61/100\n",
      "5/5 [==============================] - 0s 821us/step - loss: 0.0352 - accuracy: 0.9905\n",
      "Epoch 62/100\n",
      "5/5 [==============================] - 0s 863us/step - loss: 0.0306 - accuracy: 0.9921\n",
      "Epoch 63/100\n",
      "5/5 [==============================] - 0s 982us/step - loss: 0.0287 - accuracy: 0.9953\n",
      "Epoch 64/100\n",
      "5/5 [==============================] - 0s 692us/step - loss: 0.0265 - accuracy: 0.9937\n",
      "Epoch 65/100\n",
      "5/5 [==============================] - 0s 708us/step - loss: 0.0256 - accuracy: 0.9968\n",
      "Epoch 66/100\n",
      "5/5 [==============================] - 0s 913us/step - loss: 0.0253 - accuracy: 0.9953\n",
      "Epoch 67/100\n",
      "5/5 [==============================] - 0s 730us/step - loss: 0.0280 - accuracy: 0.9953\n",
      "Epoch 68/100\n",
      "5/5 [==============================] - 0s 819us/step - loss: 0.0250 - accuracy: 0.9937\n",
      "Epoch 69/100\n",
      "5/5 [==============================] - 0s 785us/step - loss: 0.0238 - accuracy: 0.9968\n",
      "Epoch 70/100\n",
      "5/5 [==============================] - 0s 689us/step - loss: 0.0181 - accuracy: 0.9968\n",
      "Epoch 71/100\n",
      "5/5 [==============================] - 0s 784us/step - loss: 0.0202 - accuracy: 0.9968\n",
      "Epoch 72/100\n",
      "5/5 [==============================] - 0s 793us/step - loss: 0.0158 - accuracy: 1.0000\n",
      "Epoch 73/100\n",
      "5/5 [==============================] - 0s 734us/step - loss: 0.0183 - accuracy: 0.9968\n",
      "Epoch 74/100\n",
      "5/5 [==============================] - 0s 871us/step - loss: 0.0156 - accuracy: 0.9968\n",
      "Epoch 75/100\n",
      "5/5 [==============================] - 0s 686us/step - loss: 0.0161 - accuracy: 0.9984\n",
      "Epoch 76/100\n",
      "5/5 [==============================] - 0s 704us/step - loss: 0.0125 - accuracy: 1.0000\n",
      "Epoch 77/100\n",
      "5/5 [==============================] - 0s 936us/step - loss: 0.0123 - accuracy: 0.9984\n",
      "Epoch 78/100\n",
      "5/5 [==============================] - 0s 729us/step - loss: 0.0108 - accuracy: 1.0000\n",
      "Epoch 79/100\n",
      "5/5 [==============================] - 0s 714us/step - loss: 0.0088 - accuracy: 1.0000\n",
      "Epoch 80/100\n",
      "5/5 [==============================] - 0s 1ms/step - loss: 0.0090 - accuracy: 1.0000\n",
      "Epoch 81/100\n",
      "5/5 [==============================] - 0s 703us/step - loss: 0.0078 - accuracy: 1.0000\n",
      "Epoch 82/100\n",
      "5/5 [==============================] - 0s 764us/step - loss: 0.0078 - accuracy: 1.0000\n",
      "Epoch 83/100\n"
     ]
    },
    {
     "name": "stdout",
     "output_type": "stream",
     "text": [
      "5/5 [==============================] - 0s 822us/step - loss: 0.0075 - accuracy: 1.0000\n",
      "Epoch 84/100\n",
      "5/5 [==============================] - 0s 683us/step - loss: 0.0073 - accuracy: 1.0000\n",
      "Epoch 85/100\n",
      "5/5 [==============================] - 0s 885us/step - loss: 0.0064 - accuracy: 1.0000\n",
      "Epoch 86/100\n",
      "5/5 [==============================] - 0s 750us/step - loss: 0.0060 - accuracy: 1.0000\n",
      "Epoch 87/100\n",
      "5/5 [==============================] - 0s 712us/step - loss: 0.0056 - accuracy: 1.0000\n",
      "Epoch 88/100\n",
      "5/5 [==============================] - 0s 842us/step - loss: 0.0052 - accuracy: 1.0000\n",
      "Epoch 89/100\n",
      "5/5 [==============================] - 0s 687us/step - loss: 0.0051 - accuracy: 1.0000\n",
      "Epoch 90/100\n",
      "5/5 [==============================] - 0s 683us/step - loss: 0.0049 - accuracy: 1.0000\n",
      "Epoch 91/100\n",
      "5/5 [==============================] - 0s 823us/step - loss: 0.0047 - accuracy: 1.0000\n",
      "Epoch 92/100\n",
      "5/5 [==============================] - 0s 705us/step - loss: 0.0044 - accuracy: 1.0000\n",
      "Epoch 93/100\n",
      "5/5 [==============================] - 0s 697us/step - loss: 0.0042 - accuracy: 1.0000\n",
      "Epoch 94/100\n",
      "5/5 [==============================] - 0s 770us/step - loss: 0.0039 - accuracy: 1.0000\n",
      "Epoch 95/100\n",
      "5/5 [==============================] - 0s 670us/step - loss: 0.0038 - accuracy: 1.0000\n",
      "Epoch 96/100\n",
      "5/5 [==============================] - 0s 808us/step - loss: 0.0036 - accuracy: 1.0000\n",
      "Epoch 97/100\n",
      "5/5 [==============================] - 0s 768us/step - loss: 0.0034 - accuracy: 1.0000\n",
      "Epoch 98/100\n",
      "5/5 [==============================] - 0s 673us/step - loss: 0.0034 - accuracy: 1.0000\n",
      "Epoch 99/100\n",
      "5/5 [==============================] - 0s 726us/step - loss: 0.0032 - accuracy: 1.0000\n",
      "Epoch 100/100\n",
      "5/5 [==============================] - 0s 694us/step - loss: 0.0030 - accuracy: 1.0000\n"
     ]
    }
   ],
   "source": [
    "# 3] train\n",
    "classifier = model.fit(X_train,\n",
    "                    y_train,\n",
    "                    epochs=100,\n",
    "                    batch_size=128)"
   ]
  },
  {
   "cell_type": "code",
   "execution_count": 10,
   "metadata": {},
   "outputs": [
    {
     "name": "stdout",
     "output_type": "stream",
     "text": [
      "Testing Accuracy:  0.8962264060974121\n"
     ]
    }
   ],
   "source": [
    "score = model.evaluate(X_test, y_test, verbose=0)\n",
    "print(\"Testing Accuracy: \", score[1])"
   ]
  },
  {
   "cell_type": "code",
   "execution_count": 11,
   "metadata": {},
   "outputs": [
    {
     "data": {
      "text/plain": [
       "<matplotlib.legend.Legend at 0x7fa53c7f0a90>"
      ]
     },
     "execution_count": 11,
     "metadata": {},
     "output_type": "execute_result"
    },
    {
     "data": {
      "image/png": "[encoded data removed]",
      "text/plain": [
       "<Figure size 432x288 with 1 Axes>"
      ]
     },
     "metadata": {
      "needs_background": "light"
     },
     "output_type": "display_data"
    }
   ],
   "source": [
    "# Training Plot\n",
    "p1 = plt.plot(classifier.history['accuracy'])\n",
    "p2 = plt.plot(classifier.history['loss'])\n",
    "plt.ylabel('Scores')\n",
    "plt.title('Accuracy - Loss plot')\n",
    "plt.legend((p1[0], p2[0]), ('Acc', 'loss'))"
   ]
  },
  {
   "cell_type": "code",
   "execution_count": 12,
   "metadata": {},
   "outputs": [],
   "source": [
    "# Save Keras model:\n",
    "model.save('simple_feature_test.h5')"
   ]
  },
  {
   "cell_type": "code",
   "execution_count": 13,
   "metadata": {},
   "outputs": [
    {
     "name": "stdout",
     "output_type": "stream",
     "text": [
      "WARNING:tensorflow:From /home/ben/anaconda3/envs/camera_reco/lib/python3.7/site-packages/tensorflow/python/training/tracking/tracking.py:111: Model.state_updates (from tensorflow.python.keras.engine.training) is deprecated and will be removed in a future version.\n",
      "Instructions for updating:\n",
      "This property should not be used in TensorFlow 2.0, as updates are applied automatically.\n",
      "WARNING:tensorflow:From /home/ben/anaconda3/envs/camera_reco/lib/python3.7/site-packages/tensorflow/python/training/tracking/tracking.py:111: Layer.updates (from tensorflow.python.keras.engine.base_layer) is deprecated and will be removed in a future version.\n",
      "Instructions for updating:\n",
      "This property should not be used in TensorFlow 2.0, as updates are applied automatically.\n",
      "INFO:tensorflow:Assets written to: /tmp/tmpo__ul3es/assets\n"
     ]
    },
    {
     "data": {
      "text/plain": [
       "300296"
      ]
     },
     "execution_count": 13,
     "metadata": {},
     "output_type": "execute_result"
    }
   ],
   "source": [
    "# Convert to TFlite model [without quantization]:\n",
    "import tensorflow as tf\n",
    "\n",
    "converter = tf.lite.TFLiteConverter.from_keras_model(model)\n",
    "tflite_model = converter.convert()\n",
    "open(\"dev_model.tflite\", \"wb\").write(tflite_model)"
   ]
  },
  {
   "cell_type": "markdown",
   "metadata": {},
   "source": [
    "**Now we can try to do some inference on the RasPi :D**"
   ]
  }
 ],
 "metadata": {
  "kernelspec": {
   "display_name": "Python [conda env:camera_reco]",
   "language": "python",
   "name": "conda-env-camera_reco-py"
  },
  "language_info": {
   "codemirror_mode": {
    "name": "ipython",
    "version": 3
   },
   "file_extension": ".py",
   "mimetype": "text/x-python",
   "name": "python",
   "nbconvert_exporter": "python",
   "pygments_lexer": "ipython3",
   "version": "3.7.7"
  }
 },
 "nbformat": 4,
 "nbformat_minor": 2
}
